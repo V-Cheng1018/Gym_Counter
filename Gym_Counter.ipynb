{
 "cells": [
  {
   "cell_type": "code",
   "execution_count": 11,
   "metadata": {},
   "outputs": [],
   "source": [
    "import cv2\n",
    "import mediapipe as mp\n",
    "import numpy as np\n",
    "mp_drawing = mp.solutions.drawing_utils\n",
    "mp_pose = mp.solutions.pose"
   ]
  },
  {
   "cell_type": "code",
   "execution_count": 12,
   "metadata": {},
   "outputs": [],
   "source": [
    "#brings up video capturing device\n",
    "\n",
    "\n",
    "#DirectShow backend API for Windows to increase performance\n",
    "cap = cv2.VideoCapture(0, cv2.CAP_DSHOW)\n",
    "#access the pose model : pass in confidence accordingly \n",
    "with mp_pose.Pose(min_detection_confidence=0.5, min_tracking_confidence=0.5) as pose:\n",
    "\n",
    "    while cap.isOpened():\n",
    "        #reads current frame\n",
    "        ret, frame = cap.read()\n",
    "\n",
    "        #recolor image -> pass rgb to media pipe \n",
    "        image = cv2.cvtColor(frame, cv2.COLOR_BGR2RGB)\n",
    "        image.flags.writeable = False\n",
    "\n",
    "        #access pose model \n",
    "        results = pose.process(image)\n",
    "        \n",
    "        #recolor to BGR\n",
    "        image.flags.writeable = True\n",
    "        image = cv2.cvtColor(image, cv2.COLOR_RGB2BGR)\n",
    "\n",
    "        #extract the 33 landmarks on the body\n",
    "        try:\n",
    "            landmarks = results.pose_landmarks.landmark\n",
    "            \n",
    "            print(landmarks)\n",
    "        except:\n",
    "            print(\"error\")\n",
    "            pass\n",
    "\n",
    "        #render detection\n",
    "        mp_drawing.draw_landmarks(image, results.pose_landmarks, mp_pose.POSE_CONNECTIONS)\n",
    "\n",
    "        #gives popup on screen with the current frame fed in\n",
    "        cv2.imshow('Mediapipe Feed', image)\n",
    "\n",
    "        #close screen if user tries to hit q \n",
    "        if cv2.waitKey(10) & 0xFF == ord('q'):\n",
    "            break\n",
    "    \n",
    "    cap.release()\n",
    "    cv2.destroyAllWindows()\n",
    "\n"
   ]
  },
  {
   "cell_type": "code",
   "execution_count": 13,
   "metadata": {},
   "outputs": [],
   "source": [
    "#calculate the angle between different joints on the body -> any 3 point of the movement\n",
    "def calculate_angle(a,b,c):\n",
    "    a = np.array(a)\n",
    "    b = np.array(b)\n",
    "    c = np.array(c)\n",
    "\n",
    "    radians = np.arctan2(c[1]-b[1], c[0]-b[0]) - np.arctan2(a[1] - b[1], a[0] - b[0])\n",
    "    angle = np.abs(radians * 180.0/np.pi)\n",
    "\n",
    "    if angle > 180.0:\n",
    "        angle = 360 - angle\n",
    "    return angle"
   ]
  },
  {
   "cell_type": "code",
   "execution_count": 14,
   "metadata": {},
   "outputs": [
    {
     "ename": "NameError",
     "evalue": "name 'landmarks' is not defined",
     "output_type": "error",
     "traceback": [
      "\u001b[1;31m---------------------------------------------------------------------------\u001b[0m",
      "\u001b[1;31mNameError\u001b[0m                                 Traceback (most recent call last)",
      "Cell \u001b[1;32mIn[14], line 2\u001b[0m\n\u001b[0;32m      1\u001b[0m \u001b[39m#save the necessary joints \u001b[39;00m\n\u001b[1;32m----> 2\u001b[0m shoulder \u001b[39m=\u001b[39m [landmarks[mp_pose\u001b[39m.\u001b[39mPoseLandmark\u001b[39m.\u001b[39mLEFT_SHOULDER\u001b[39m.\u001b[39mvalue]\u001b[39m.\u001b[39mx, landmarks[mp_pose\u001b[39m.\u001b[39mPoseLandMark\u001b[39m.\u001b[39mLEFT_SHOULDER\u001b[39m.\u001b[39mvalue]\u001b[39m.\u001b[39my]\n\u001b[0;32m      3\u001b[0m elbow \u001b[39m=\u001b[39m [landmarks[mp_pose\u001b[39m.\u001b[39mPoseLandmark\u001b[39m.\u001b[39mLEFT_ELBOW\u001b[39m.\u001b[39mvalue]\u001b[39m.\u001b[39mx, landmarks[mp_pose\u001b[39m.\u001b[39mPoseLandMark\u001b[39m.\u001b[39mLEFT_ELBOW\u001b[39m.\u001b[39mvalue]\u001b[39m.\u001b[39my]\n\u001b[0;32m      4\u001b[0m wrist \u001b[39m=\u001b[39m [landmarks[mp_pose\u001b[39m.\u001b[39mPoseLandmark\u001b[39m.\u001b[39mLEFT_WRIST\u001b[39m.\u001b[39mvalue]\u001b[39m.\u001b[39mx, landmarks[mp_pose\u001b[39m.\u001b[39mPoseLandMark\u001b[39m.\u001b[39mLEFT_WRIST\u001b[39m.\u001b[39mvalue]\u001b[39m.\u001b[39my]\n",
      "\u001b[1;31mNameError\u001b[0m: name 'landmarks' is not defined"
     ]
    }
   ],
   "source": [
    "#save the necessary joints \n",
    "shoulder = [landmarks[mp_pose.PoseLandmark.LEFT_SHOULDER.value].x, landmarks[mp_pose.PoseLandMark.LEFT_SHOULDER.value].y]\n",
    "elbow = [landmarks[mp_pose.PoseLandmark.LEFT_ELBOW.value].x, landmarks[mp_pose.PoseLandMark.LEFT_ELBOW.value].y]\n",
    "wrist = [landmarks[mp_pose.PoseLandmark.LEFT_WRIST.value].x, landmarks[mp_pose.PoseLandMark.LEFT_WRIST.value].y]\n",
    "\n",
    "calculate_angle(shoulder, elbow, wrist)"
   ]
  }
 ],
 "metadata": {
  "kernelspec": {
   "display_name": "Python 3",
   "language": "python",
   "name": "python3"
  },
  "language_info": {
   "codemirror_mode": {
    "name": "ipython",
    "version": 3
   },
   "file_extension": ".py",
   "mimetype": "text/x-python",
   "name": "python",
   "nbconvert_exporter": "python",
   "pygments_lexer": "ipython3",
   "version": "3.10.4"
  },
  "orig_nbformat": 4
 },
 "nbformat": 4,
 "nbformat_minor": 2
}
